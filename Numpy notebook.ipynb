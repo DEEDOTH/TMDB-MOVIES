{
 "cells": [
  {
   "cell_type": "code",
   "execution_count": 3,
   "id": "9d8f3b37",
   "metadata": {},
   "outputs": [],
   "source": [
    "import numpy as np"
   ]
  },
  {
   "cell_type": "code",
   "execution_count": 9,
   "id": "04ee5b3f",
   "metadata": {},
   "outputs": [],
   "source": [
    "a = np.array([[1,2,3,4,5,6,7],[8,9,10,11,12,13,14]])"
   ]
  },
  {
   "cell_type": "code",
   "execution_count": 25,
   "id": "fed4fdda",
   "metadata": {},
   "outputs": [
    {
     "data": {
      "text/plain": [
       "array([[ 1,  2,  3,  4,  5,  6,  7],\n",
       "       [ 8,  9, 10, 11, 12, 13, 14]])"
      ]
     },
     "execution_count": 25,
     "metadata": {},
     "output_type": "execute_result"
    }
   ],
   "source": [
    "a"
   ]
  },
  {
   "cell_type": "code",
   "execution_count": 26,
   "id": "4abe007d",
   "metadata": {},
   "outputs": [
    {
     "data": {
      "text/plain": [
       "(2, 7)"
      ]
     },
     "execution_count": 26,
     "metadata": {},
     "output_type": "execute_result"
    }
   ],
   "source": [
    "a.shape"
   ]
  },
  {
   "cell_type": "code",
   "execution_count": 27,
   "id": "8787b92d",
   "metadata": {},
   "outputs": [
    {
     "data": {
      "text/plain": [
       "array([2, 9])"
      ]
     },
     "execution_count": 27,
     "metadata": {},
     "output_type": "execute_result"
    }
   ],
   "source": [
    "#accessing 2 and 9 index column 1\n",
    "a[:,1]"
   ]
  },
  {
   "cell_type": "code",
   "execution_count": 28,
   "id": "0a74661c",
   "metadata": {},
   "outputs": [
    {
     "data": {
      "text/plain": [
       "2"
      ]
     },
     "execution_count": 28,
     "metadata": {},
     "output_type": "execute_result"
    }
   ],
   "source": [
    "#accessing 2 alone. roll index 0 and column index 1\n",
    "a[0,1]"
   ]
  },
  {
   "cell_type": "code",
   "execution_count": 30,
   "id": "f141f7e2",
   "metadata": {},
   "outputs": [
    {
     "data": {
      "text/plain": [
       "array([[ 3,  4,  5],\n",
       "       [10, 11, 12]])"
      ]
     },
     "execution_count": 30,
     "metadata": {},
     "output_type": "execute_result"
    }
   ],
   "source": [
    "#fetching 3 columns from both roll\n",
    "a[:,2:5]"
   ]
  },
  {
   "cell_type": "code",
   "execution_count": 31,
   "id": "36c5b12f",
   "metadata": {},
   "outputs": [
    {
     "data": {
      "text/plain": [
       "array([3, 4, 5])"
      ]
     },
     "execution_count": 31,
     "metadata": {},
     "output_type": "execute_result"
    }
   ],
   "source": [
    "#fetching 3 columns from  roll 1 index 0\n",
    "a[0,2:5]"
   ]
  },
  {
   "cell_type": "code",
   "execution_count": 32,
   "id": "f80eecc3",
   "metadata": {},
   "outputs": [
    {
     "data": {
      "text/plain": [
       "dtype('int32')"
      ]
     },
     "execution_count": 32,
     "metadata": {},
     "output_type": "execute_result"
    }
   ],
   "source": [
    "a.dtype"
   ]
  },
  {
   "cell_type": "markdown",
   "id": "22dc9362",
   "metadata": {},
   "source": [
    "### 3Dimensional Array"
   ]
  },
  {
   "cell_type": "code",
   "execution_count": 33,
   "id": "4427a1b7",
   "metadata": {},
   "outputs": [
    {
     "data": {
      "text/plain": [
       "array([[[1, 2],\n",
       "        [3, 4]],\n",
       "\n",
       "       [[5, 6],\n",
       "        [7, 8]]])"
      ]
     },
     "execution_count": 33,
     "metadata": {},
     "output_type": "execute_result"
    }
   ],
   "source": [
    "b = np.array([[[1,2],[3,4]],[[5,6],[7,8]]])\n",
    "b"
   ]
  },
  {
   "cell_type": "code",
   "execution_count": 34,
   "id": "6af83fd7",
   "metadata": {},
   "outputs": [
    {
     "data": {
      "text/plain": [
       "(2, 2, 2)"
      ]
     },
     "execution_count": 34,
     "metadata": {},
     "output_type": "execute_result"
    }
   ],
   "source": [
    "b.shape"
   ]
  },
  {
   "cell_type": "code",
   "execution_count": 35,
   "id": "9b397be1",
   "metadata": {},
   "outputs": [
    {
     "data": {
      "text/plain": [
       "4"
      ]
     },
     "execution_count": 35,
     "metadata": {},
     "output_type": "execute_result"
    }
   ],
   "source": [
    "#access 4\n",
    "b[0,1,1]"
   ]
  },
  {
   "cell_type": "code",
   "execution_count": 36,
   "id": "60972464",
   "metadata": {},
   "outputs": [
    {
     "data": {
      "text/plain": [
       "array([[3, 4],\n",
       "       [7, 8]])"
      ]
     },
     "execution_count": 36,
     "metadata": {},
     "output_type": "execute_result"
    }
   ],
   "source": [
    "#accessing 3,4 and 7,8\n",
    "b[:,1,:]"
   ]
  },
  {
   "cell_type": "markdown",
   "id": "3980a48a",
   "metadata": {},
   "source": [
    "### Replacing value"
   ]
  },
  {
   "cell_type": "code",
   "execution_count": 42,
   "id": "59b9cbb3",
   "metadata": {},
   "outputs": [
    {
     "data": {
      "text/plain": [
       "array([[[-1, -2],\n",
       "        [ 3,  4]],\n",
       "\n",
       "       [[-5, -6],\n",
       "        [ 7,  8]]])"
      ]
     },
     "execution_count": 42,
     "metadata": {},
     "output_type": "execute_result"
    }
   ],
   "source": [
    "#accessing 1,2 and 5,6 to -1,-2 and -5,-6\n",
    "\n",
    "b[:,0,:] = ([-1,-2],[-5,-6])\n",
    "b"
   ]
  },
  {
   "cell_type": "markdown",
   "id": "72f48e08",
   "metadata": {},
   "source": [
    "### All 0s & 1s matrix"
   ]
  },
  {
   "cell_type": "code",
   "execution_count": 43,
   "id": "19ec89ec",
   "metadata": {},
   "outputs": [
    {
     "data": {
      "text/plain": [
       "array([[0., 0., 0.],\n",
       "       [0., 0., 0.]])"
      ]
     },
     "execution_count": 43,
     "metadata": {},
     "output_type": "execute_result"
    }
   ],
   "source": [
    "np.zeros((2,3))"
   ]
  },
  {
   "cell_type": "code",
   "execution_count": 44,
   "id": "8801bff3",
   "metadata": {},
   "outputs": [
    {
     "data": {
      "text/plain": [
       "array([[1., 1.],\n",
       "       [1., 1.],\n",
       "       [1., 1.]])"
      ]
     },
     "execution_count": 44,
     "metadata": {},
     "output_type": "execute_result"
    }
   ],
   "source": [
    "np.ones((3,2))"
   ]
  },
  {
   "cell_type": "code",
   "execution_count": 45,
   "id": "c94abe2a",
   "metadata": {},
   "outputs": [
    {
     "data": {
      "text/plain": [
       "array([[[1., 1., 1., 1.],\n",
       "        [1., 1., 1., 1.]],\n",
       "\n",
       "       [[1., 1., 1., 1.],\n",
       "        [1., 1., 1., 1.]],\n",
       "\n",
       "       [[1., 1., 1., 1.],\n",
       "        [1., 1., 1., 1.]]])"
      ]
     },
     "execution_count": 45,
     "metadata": {},
     "output_type": "execute_result"
    }
   ],
   "source": [
    "np.ones((3,2,4))"
   ]
  },
  {
   "cell_type": "code",
   "execution_count": 53,
   "id": "f15eba4a",
   "metadata": {},
   "outputs": [
    {
     "data": {
      "text/plain": [
       "array([[[0., 0., 0., 0., 0., 0., 0., 0.],\n",
       "        [0., 0., 0., 0., 0., 0., 0., 0.]],\n",
       "\n",
       "       [[0., 0., 0., 0., 0., 0., 0., 0.],\n",
       "        [0., 0., 0., 0., 0., 0., 0., 0.]]])"
      ]
     },
     "execution_count": 53,
     "metadata": {},
     "output_type": "execute_result"
    }
   ],
   "source": [
    "# You can include the datatype you want\n",
    "f = np.zeros((2,2,8), dtype=\"float\")\n",
    "f"
   ]
  },
  {
   "cell_type": "markdown",
   "id": "6fa6a4b1",
   "metadata": {},
   "source": [
    "### Transpose"
   ]
  },
  {
   "cell_type": "code",
   "execution_count": 54,
   "id": "682b9b70",
   "metadata": {},
   "outputs": [
    {
     "data": {
      "text/plain": [
       "array([[[0., 0.],\n",
       "        [0., 0.]],\n",
       "\n",
       "       [[0., 0.],\n",
       "        [0., 0.]],\n",
       "\n",
       "       [[0., 0.],\n",
       "        [0., 0.]],\n",
       "\n",
       "       [[0., 0.],\n",
       "        [0., 0.]],\n",
       "\n",
       "       [[0., 0.],\n",
       "        [0., 0.]],\n",
       "\n",
       "       [[0., 0.],\n",
       "        [0., 0.]],\n",
       "\n",
       "       [[0., 0.],\n",
       "        [0., 0.]],\n",
       "\n",
       "       [[0., 0.],\n",
       "        [0., 0.]]])"
      ]
     },
     "execution_count": 54,
     "metadata": {},
     "output_type": "execute_result"
    }
   ],
   "source": [
    "# Changing the shape of a matrix\n",
    "f.T"
   ]
  },
  {
   "cell_type": "markdown",
   "id": "fc51a1eb",
   "metadata": {},
   "source": [
    "### Any other numbers, instead of 0s and 1s"
   ]
  },
  {
   "cell_type": "code",
   "execution_count": 60,
   "id": "2764c163",
   "metadata": {},
   "outputs": [
    {
     "data": {
      "text/plain": [
       "array([[13, 13, 13, 13, 13],\n",
       "       [13, 13, 13, 13, 13]])"
      ]
     },
     "execution_count": 60,
     "metadata": {},
     "output_type": "execute_result"
    }
   ],
   "source": [
    "np.full((2,5), 13) # the full takes 2 arg. the size & the number you want"
   ]
  },
  {
   "cell_type": "markdown",
   "id": "3915d2b3",
   "metadata": {},
   "source": [
    "### To use a shape of already declared matrix to create our numbers"
   ]
  },
  {
   "cell_type": "code",
   "execution_count": 63,
   "id": "f2dd43ef",
   "metadata": {},
   "outputs": [
    {
     "name": "stdout",
     "output_type": "stream",
     "text": [
      "[[ 1  2  3  4  5  6  7]\n",
      " [ 8  9 10 11 12 13 14]]\n"
     ]
    },
    {
     "data": {
      "text/plain": [
       "(2, 7)"
      ]
     },
     "execution_count": 63,
     "metadata": {},
     "output_type": "execute_result"
    }
   ],
   "source": [
    "# we already have a delared\n",
    "print(a)\n",
    "a.shape"
   ]
  },
  {
   "cell_type": "code",
   "execution_count": 64,
   "id": "45acf830",
   "metadata": {},
   "outputs": [
    {
     "data": {
      "text/plain": [
       "array([[23, 23, 23, 23, 23, 23, 23],\n",
       "       [23, 23, 23, 23, 23, 23, 23]])"
      ]
     },
     "execution_count": 64,
     "metadata": {},
     "output_type": "execute_result"
    }
   ],
   "source": [
    "#now let's create 23 number with the size of a(2,7)\n",
    "np.full((a.shape), 23)"
   ]
  },
  {
   "cell_type": "code",
   "execution_count": 65,
   "id": "0b148c77",
   "metadata": {},
   "outputs": [
    {
     "data": {
      "text/plain": [
       "array([[23, 23, 23, 23, 23, 23, 23],\n",
       "       [23, 23, 23, 23, 23, 23, 23]])"
      ]
     },
     "execution_count": 65,
     "metadata": {},
     "output_type": "execute_result"
    }
   ],
   "source": [
    "# Or using full_like\n",
    "np.full_like(a, 23)"
   ]
  },
  {
   "cell_type": "markdown",
   "id": "15c63758",
   "metadata": {},
   "source": [
    "### Creating matrix of random decimal number"
   ]
  },
  {
   "cell_type": "code",
   "execution_count": 69,
   "id": "1987e4f9",
   "metadata": {},
   "outputs": [
    {
     "data": {
      "text/plain": [
       "array([[0.42712275, 0.55681357, 0.31495291, 0.61483372],\n",
       "       [0.41102036, 0.65662926, 0.189753  , 0.344859  ]])"
      ]
     },
     "execution_count": 69,
     "metadata": {},
     "output_type": "execute_result"
    }
   ],
   "source": [
    "np.random.rand(2,4)"
   ]
  },
  {
   "cell_type": "markdown",
   "id": "3382a679",
   "metadata": {},
   "source": [
    "### Creating matrix of random decimal number with already declared variable shape"
   ]
  },
  {
   "cell_type": "code",
   "execution_count": 72,
   "id": "7480f0f0",
   "metadata": {},
   "outputs": [
    {
     "name": "stdout",
     "output_type": "stream",
     "text": [
      "(2, 7)\n"
     ]
    },
    {
     "data": {
      "text/plain": [
       "array([[0.49734382, 0.05861993, 0.96929227, 0.28199595, 0.68090242,\n",
       "        0.61879671, 0.2881239 ],\n",
       "       [0.0186909 , 0.97653431, 0.42053403, 0.39051326, 0.78518688,\n",
       "        0.31486225, 0.78053223]])"
      ]
     },
     "execution_count": 72,
     "metadata": {},
     "output_type": "execute_result"
    }
   ],
   "source": [
    "print(a.shape)\n",
    "np.random.random_sample(a.shape)"
   ]
  },
  {
   "cell_type": "markdown",
   "id": "6446f865",
   "metadata": {},
   "source": [
    "### Creating matrix of random Integer number"
   ]
  },
  {
   "cell_type": "code",
   "execution_count": 80,
   "id": "748eff2e",
   "metadata": {},
   "outputs": [
    {
     "data": {
      "text/plain": [
       "array([[1, 1, 1, 1],\n",
       "       [1, 2, 3, 1]])"
      ]
     },
     "execution_count": 80,
     "metadata": {},
     "output_type": "execute_result"
    }
   ],
   "source": [
    "np.random.randint(1,4, size=(2,4)) #this gives us random numbers from 1 to 3. 4 won't be included"
   ]
  },
  {
   "cell_type": "code",
   "execution_count": 94,
   "id": "32f73d37",
   "metadata": {},
   "outputs": [
    {
     "name": "stdout",
     "output_type": "stream",
     "text": [
      "int32\n",
      "[[4 4 2]\n",
      " [2 4 2]\n",
      " [1 3 1]]\n"
     ]
    }
   ],
   "source": [
    "d = np.random.randint(5, size=(3,3), dtype=\"int32\")\n",
    "print(d.dtype)\n",
    "print(d)"
   ]
  },
  {
   "cell_type": "markdown",
   "id": "53e3f504",
   "metadata": {},
   "source": [
    "## Random Normal Distribution"
   ]
  },
  {
   "cell_type": "markdown",
   "id": "b2e9f88f",
   "metadata": {},
   "source": [
    "### Creating a football team"
   ]
  },
  {
   "cell_type": "code",
   "execution_count": 1,
   "id": "aa845ea2",
   "metadata": {},
   "outputs": [],
   "source": [
    "# This will give us random number, and will help us share between size of number specified"
   ]
  },
  {
   "cell_type": "code",
   "execution_count": 11,
   "id": "30beeb72",
   "metadata": {},
   "outputs": [
    {
     "data": {
      "text/plain": [
       "array([ 45.79,  70.56,  33.99,  66.56,  70.36,  49.57,  50.87,  38.86,\n",
       "        64.1 ,  86.23,  60.65, 114.26,  59.23,  57.14,  90.74,  33.35,\n",
       "        88.42,  77.46,  83.72,  87.02,  81.71,  79.78,  47.19,  72.92,\n",
       "        56.85,  77.37,  74.22,  78.37,  64.27,  62.37,  38.78,  71.36,\n",
       "        30.34,  26.74,  68.71,  72.76,  81.28,  76.04,  89.65,  56.44,\n",
       "       107.91,  58.39,  79.3 ,  73.97,  41.99,  76.3 ,  56.16,  88.16,\n",
       "        51.56,  46.74])"
      ]
     },
     "execution_count": 11,
     "metadata": {},
     "output_type": "execute_result"
    }
   ],
   "source": [
    "height = np.round(np.random.normal(1.91, 0.41, 50),2)\n",
    "weight = np.round(np.random.normal(68.5, 23, 50),2)\n",
    "height\n",
    "weight"
   ]
  },
  {
   "cell_type": "code",
   "execution_count": 12,
   "id": "df1bdd4c",
   "metadata": {},
   "outputs": [
    {
     "data": {
      "text/plain": [
       "(50, 2)"
      ]
     },
     "execution_count": 12,
     "metadata": {},
     "output_type": "execute_result"
    }
   ],
   "source": [
    "np_team = np.column_stack((height,weight))\n",
    "\n",
    "np_team\n",
    "\n",
    "np_team.shape"
   ]
  },
  {
   "cell_type": "code",
   "execution_count": 19,
   "id": "ccdcde57",
   "metadata": {},
   "outputs": [
    {
     "data": {
      "text/plain": [
       "1.91"
      ]
     },
     "execution_count": 19,
     "metadata": {},
     "output_type": "execute_result"
    }
   ],
   "source": [
    "mean_height = np.round(np.mean(np_team[:,0]),2)\n",
    "mean_height"
   ]
  },
  {
   "cell_type": "markdown",
   "id": "388824ce",
   "metadata": {},
   "source": [
    "### Check the correlation between the weight and height of my team"
   ]
  },
  {
   "cell_type": "code",
   "execution_count": 21,
   "id": "b8b49c04",
   "metadata": {},
   "outputs": [
    {
     "data": {
      "text/plain": [
       "array([[1.        , 0.01877208],\n",
       "       [0.01877208, 1.        ]])"
      ]
     },
     "execution_count": 21,
     "metadata": {},
     "output_type": "execute_result"
    }
   ],
   "source": [
    "np_team_corr = np.corrcoef(np_team[:,0], np_team[:,1])\n",
    "np_team_corr"
   ]
  },
  {
   "cell_type": "markdown",
   "id": "62492b19",
   "metadata": {},
   "source": [
    "### Class assignment\n",
    "\n",
    "#### Create a player of 4000 and assign a random height and weight. \n",
    "### check mean, medean, correlation"
   ]
  },
  {
   "cell_type": "code",
   "execution_count": 26,
   "id": "2a6fdbe2",
   "metadata": {},
   "outputs": [
    {
     "name": "stdout",
     "output_type": "stream",
     "text": [
      "[4.371 1.506 3.195 ... 1.606 4.227 2.506]\n",
      "[ 63.652  49.085 -18.508 ... 100.709  66.456  48.725]\n"
     ]
    }
   ],
   "source": [
    "team_height = np.round(np.random.normal(2.5, 1.34, 4000),3)\n",
    "team_weight = np.round(np.random.normal(68.5, 34.3, 4000),3)\n",
    "\n",
    "print(team_height)\n",
    "print(team_weight)"
   ]
  },
  {
   "cell_type": "markdown",
   "id": "3246b643",
   "metadata": {},
   "source": [
    "### Stack the height and weight together"
   ]
  },
  {
   "cell_type": "code",
   "execution_count": 28,
   "id": "11597975",
   "metadata": {},
   "outputs": [],
   "source": [
    "team_stack = np.column_stack((team_height, team_weight))"
   ]
  },
  {
   "cell_type": "code",
   "execution_count": 29,
   "id": "056d27f5",
   "metadata": {},
   "outputs": [
    {
     "data": {
      "text/plain": [
       "array([[  4.371,  63.652],\n",
       "       [  1.506,  49.085],\n",
       "       [  3.195, -18.508],\n",
       "       ...,\n",
       "       [  1.606, 100.709],\n",
       "       [  4.227,  66.456],\n",
       "       [  2.506,  48.725]])"
      ]
     },
     "execution_count": 29,
     "metadata": {},
     "output_type": "execute_result"
    }
   ],
   "source": [
    "team_stack"
   ]
  },
  {
   "cell_type": "code",
   "execution_count": 33,
   "id": "e13a8343",
   "metadata": {},
   "outputs": [
    {
     "data": {
      "text/plain": [
       "array([4.371, 1.506, 3.195, ..., 1.606, 4.227, 2.506])"
      ]
     },
     "execution_count": 33,
     "metadata": {},
     "output_type": "execute_result"
    }
   ],
   "source": [
    "team_stack[:,0]"
   ]
  },
  {
   "cell_type": "markdown",
   "id": "5fa0cd99",
   "metadata": {},
   "source": [
    "### Find the mean of the height & weight"
   ]
  },
  {
   "cell_type": "code",
   "execution_count": 44,
   "id": "56742401",
   "metadata": {},
   "outputs": [
    {
     "data": {
      "text/plain": [
       "2.504"
      ]
     },
     "execution_count": 44,
     "metadata": {},
     "output_type": "execute_result"
    }
   ],
   "source": [
    "mean_height = np.round(np.mean(team_stack[:, 0]),3)\n",
    "mean_height"
   ]
  },
  {
   "cell_type": "code",
   "execution_count": 45,
   "id": "6b5c3cc9",
   "metadata": {},
   "outputs": [
    {
     "data": {
      "text/plain": [
       "68.366"
      ]
     },
     "execution_count": 45,
     "metadata": {},
     "output_type": "execute_result"
    }
   ],
   "source": [
    "mean_weight = np.round(np.mean(team_stack[:,1]),3)\n",
    "mean_weight"
   ]
  },
  {
   "cell_type": "markdown",
   "id": "299dd6c4",
   "metadata": {},
   "source": [
    "### Find the median of the height & weight"
   ]
  },
  {
   "cell_type": "code",
   "execution_count": 46,
   "id": "3c56ee46",
   "metadata": {},
   "outputs": [
    {
     "data": {
      "text/plain": [
       "2.501"
      ]
     },
     "execution_count": 46,
     "metadata": {},
     "output_type": "execute_result"
    }
   ],
   "source": [
    "median_height = np.round(np.median(team_stack[:,0]),3)\n",
    "median_height"
   ]
  },
  {
   "cell_type": "code",
   "execution_count": 47,
   "id": "ecebedbe",
   "metadata": {},
   "outputs": [
    {
     "data": {
      "text/plain": [
       "68.368"
      ]
     },
     "execution_count": 47,
     "metadata": {},
     "output_type": "execute_result"
    }
   ],
   "source": [
    "median_weight = np.round(np.median(team_stack[:,1]),3)\n",
    "median_weight"
   ]
  },
  {
   "cell_type": "markdown",
   "id": "fa9d03e5",
   "metadata": {},
   "source": [
    "### Find the correlation between the height and weight"
   ]
  },
  {
   "cell_type": "code",
   "execution_count": 57,
   "id": "96477433",
   "metadata": {},
   "outputs": [
    {
     "name": "stdout",
     "output_type": "stream",
     "text": [
      "[[ 1.00000000e+00 -6.17711756e-04]\n",
      " [-6.17711756e-04  1.00000000e+00]]\n"
     ]
    },
    {
     "data": {
      "text/plain": [
       "(2, 2)"
      ]
     },
     "execution_count": 57,
     "metadata": {},
     "output_type": "execute_result"
    }
   ],
   "source": [
    "team_corr = np.corrcoef(team_stack[:,0], team_stack[:,1])\n",
    "print(team_corr)\n",
    "team_corr.shape"
   ]
  },
  {
   "cell_type": "code",
   "execution_count": null,
   "id": "12d9aa72",
   "metadata": {},
   "outputs": [],
   "source": []
  },
  {
   "cell_type": "code",
   "execution_count": 15,
   "id": "a755087c",
   "metadata": {},
   "outputs": [
    {
     "data": {
      "text/plain": [
       "14.809999999999999"
      ]
     },
     "execution_count": 15,
     "metadata": {},
     "output_type": "execute_result"
    }
   ],
   "source": [
    "medean_height = np.median(np_team)\n",
    "medean_height"
   ]
  },
  {
   "cell_type": "code",
   "execution_count": 84,
   "id": "04c37e28",
   "metadata": {},
   "outputs": [
    {
     "data": {
      "text/plain": [
       "array([[0, 0, 2],\n",
       "       [4, 0, 0],\n",
       "       [1, 0, 3]])"
      ]
     },
     "execution_count": 84,
     "metadata": {},
     "output_type": "execute_result"
    }
   ],
   "source": [
    "c = np.random.randint(5, size=(3,3)) # this will give us random number from 0 to 4\n",
    "c"
   ]
  },
  {
   "cell_type": "code",
   "execution_count": 86,
   "id": "f543f524",
   "metadata": {},
   "outputs": [
    {
     "data": {
      "text/plain": [
       "3"
      ]
     },
     "execution_count": 86,
     "metadata": {},
     "output_type": "execute_result"
    }
   ],
   "source": [
    "c[2,2]"
   ]
  },
  {
   "cell_type": "markdown",
   "id": "6142029a",
   "metadata": {},
   "source": [
    "### Accessment. Replicate this matrix without writing it manually"
   ]
  },
  {
   "cell_type": "code",
   "execution_count": 100,
   "id": "becf0134",
   "metadata": {},
   "outputs": [
    {
     "data": {
      "text/plain": [
       "array([[1., 1., 1., 1., 1.],\n",
       "       [1., 1., 1., 1., 1.],\n",
       "       [1., 1., 1., 1., 1.],\n",
       "       [1., 1., 1., 1., 1.],\n",
       "       [1., 1., 1., 1., 1.]])"
      ]
     },
     "execution_count": 100,
     "metadata": {},
     "output_type": "execute_result"
    }
   ],
   "source": [
    "output = np.ones([5,5])\n",
    "output"
   ]
  },
  {
   "cell_type": "code",
   "execution_count": 101,
   "id": "7e3c8b0f",
   "metadata": {},
   "outputs": [
    {
     "data": {
      "text/plain": [
       "array([[0., 0., 0.],\n",
       "       [0., 0., 0.],\n",
       "       [0., 0., 0.]])"
      ]
     },
     "execution_count": 101,
     "metadata": {},
     "output_type": "execute_result"
    }
   ],
   "source": [
    "zeros = np.zeros([3,3])\n",
    "zeros"
   ]
  },
  {
   "cell_type": "code",
   "execution_count": 102,
   "id": "28dd57bb",
   "metadata": {},
   "outputs": [],
   "source": [
    "zeros[1,1] = 9"
   ]
  },
  {
   "cell_type": "code",
   "execution_count": 103,
   "id": "28829325",
   "metadata": {},
   "outputs": [
    {
     "data": {
      "text/plain": [
       "array([[0., 0., 0.],\n",
       "       [0., 9., 0.],\n",
       "       [0., 0., 0.]])"
      ]
     },
     "execution_count": 103,
     "metadata": {},
     "output_type": "execute_result"
    }
   ],
   "source": [
    "zeros"
   ]
  },
  {
   "cell_type": "code",
   "execution_count": 104,
   "id": "9f2b5cc4",
   "metadata": {},
   "outputs": [],
   "source": [
    "output[1:4, 1:4] = zeros"
   ]
  },
  {
   "cell_type": "code",
   "execution_count": 105,
   "id": "6df58797",
   "metadata": {},
   "outputs": [
    {
     "data": {
      "text/plain": [
       "array([[1., 1., 1., 1., 1.],\n",
       "       [1., 0., 0., 0., 1.],\n",
       "       [1., 0., 9., 0., 1.],\n",
       "       [1., 0., 0., 0., 1.],\n",
       "       [1., 1., 1., 1., 1.]])"
      ]
     },
     "execution_count": 105,
     "metadata": {},
     "output_type": "execute_result"
    }
   ],
   "source": [
    "output"
   ]
  },
  {
   "cell_type": "code",
   "execution_count": null,
   "id": "b6610b3d",
   "metadata": {},
   "outputs": [],
   "source": []
  },
  {
   "cell_type": "markdown",
   "id": "f7483921",
   "metadata": {},
   "source": [
    "### Be careful when copying arrays"
   ]
  },
  {
   "cell_type": "code",
   "execution_count": 111,
   "id": "bc78418d",
   "metadata": {},
   "outputs": [
    {
     "name": "stdout",
     "output_type": "stream",
     "text": [
      "[1 2 3]\n",
      "[1 2 3]\n",
      "[100   2   3]\n",
      "[100   2   3]\n"
     ]
    }
   ],
   "source": [
    "## example of mistakes of copying normally\n",
    "a = np.array([1,2,3])\n",
    "print(a)\n",
    "b = a\n",
    "print(b)\n",
    "b[0] = 100\n",
    "print(b)\n",
    "\n",
    "#we didn't touch a, but a is also affected immediately we modified b\n",
    "print(a)"
   ]
  },
  {
   "cell_type": "markdown",
   "id": "7e21d1b7",
   "metadata": {},
   "source": [
    "### Solution is to us Copy method"
   ]
  },
  {
   "cell_type": "code",
   "execution_count": 112,
   "id": "4742d347",
   "metadata": {},
   "outputs": [
    {
     "name": "stdout",
     "output_type": "stream",
     "text": [
      "[1 2 3]\n",
      "[100   2   3]\n"
     ]
    }
   ],
   "source": [
    "a = np.array([1,2,3])\n",
    "b = a.copy()\n",
    "b[0] = 100\n",
    "\n",
    "print(a)\n",
    "print(b)"
   ]
  },
  {
   "cell_type": "markdown",
   "id": "481673da",
   "metadata": {},
   "source": [
    "## How to laod datas from file"
   ]
  },
  {
   "cell_type": "code",
   "execution_count": 116,
   "id": "8cf82692",
   "metadata": {},
   "outputs": [],
   "source": [
    "from numpy import loadtxt"
   ]
  },
  {
   "cell_type": "code",
   "execution_count": 117,
   "id": "40e7ee09",
   "metadata": {},
   "outputs": [],
   "source": [
    "filename = 'pokemon_data.csv'"
   ]
  },
  {
   "cell_type": "code",
   "execution_count": 122,
   "id": "7dfdc040",
   "metadata": {},
   "outputs": [],
   "source": [
    "raw_data = open(filename, 'rb')"
   ]
  },
  {
   "cell_type": "code",
   "execution_count": 123,
   "id": "4b685bd3",
   "metadata": {},
   "outputs": [
    {
     "ename": "ValueError",
     "evalue": "could not convert string to float: 'Bulbasaur'",
     "output_type": "error",
     "traceback": [
      "\u001b[1;31m---------------------------------------------------------------------------\u001b[0m",
      "\u001b[1;31mValueError\u001b[0m                                Traceback (most recent call last)",
      "Input \u001b[1;32mIn [123]\u001b[0m, in \u001b[0;36m<cell line: 1>\u001b[1;34m()\u001b[0m\n\u001b[1;32m----> 1\u001b[0m poke_man \u001b[38;5;241m=\u001b[39m \u001b[43mloadtxt\u001b[49m\u001b[43m(\u001b[49m\u001b[43mraw_data\u001b[49m\u001b[43m,\u001b[49m\u001b[43m \u001b[49m\u001b[43mdelimiter\u001b[49m\u001b[43m \u001b[49m\u001b[38;5;241;43m=\u001b[39;49m\u001b[43m \u001b[49m\u001b[38;5;124;43m'\u001b[39;49m\u001b[38;5;124;43m,\u001b[39;49m\u001b[38;5;124;43m'\u001b[39;49m\u001b[43m)\u001b[49m\n",
      "File \u001b[1;32m~\\anaconda3\\lib\\site-packages\\numpy\\lib\\npyio.py:1148\u001b[0m, in \u001b[0;36mloadtxt\u001b[1;34m(fname, dtype, comments, delimiter, converters, skiprows, usecols, unpack, ndmin, encoding, max_rows, like)\u001b[0m\n\u001b[0;32m   1143\u001b[0m \u001b[38;5;66;03m# read data in chunks and fill it into an array via resize\u001b[39;00m\n\u001b[0;32m   1144\u001b[0m \u001b[38;5;66;03m# over-allocating and shrinking the array later may be faster but is\u001b[39;00m\n\u001b[0;32m   1145\u001b[0m \u001b[38;5;66;03m# probably not relevant compared to the cost of actually reading and\u001b[39;00m\n\u001b[0;32m   1146\u001b[0m \u001b[38;5;66;03m# converting the data\u001b[39;00m\n\u001b[0;32m   1147\u001b[0m X \u001b[38;5;241m=\u001b[39m \u001b[38;5;28;01mNone\u001b[39;00m\n\u001b[1;32m-> 1148\u001b[0m \u001b[38;5;28;01mfor\u001b[39;00m x \u001b[38;5;129;01min\u001b[39;00m read_data(_loadtxt_chunksize):\n\u001b[0;32m   1149\u001b[0m     \u001b[38;5;28;01mif\u001b[39;00m X \u001b[38;5;129;01mis\u001b[39;00m \u001b[38;5;28;01mNone\u001b[39;00m:\n\u001b[0;32m   1150\u001b[0m         X \u001b[38;5;241m=\u001b[39m np\u001b[38;5;241m.\u001b[39marray(x, dtype)\n",
      "File \u001b[1;32m~\\anaconda3\\lib\\site-packages\\numpy\\lib\\npyio.py:999\u001b[0m, in \u001b[0;36mloadtxt.<locals>.read_data\u001b[1;34m(chunk_size)\u001b[0m\n\u001b[0;32m    995\u001b[0m     \u001b[38;5;28;01mraise\u001b[39;00m \u001b[38;5;167;01mValueError\u001b[39;00m(\u001b[38;5;124m\"\u001b[39m\u001b[38;5;124mWrong number of columns at line \u001b[39m\u001b[38;5;132;01m%d\u001b[39;00m\u001b[38;5;124m\"\u001b[39m\n\u001b[0;32m    996\u001b[0m                      \u001b[38;5;241m%\u001b[39m line_num)\n\u001b[0;32m    998\u001b[0m \u001b[38;5;66;03m# Convert each value according to its column and store\u001b[39;00m\n\u001b[1;32m--> 999\u001b[0m items \u001b[38;5;241m=\u001b[39m [conv(val) \u001b[38;5;28;01mfor\u001b[39;00m (conv, val) \u001b[38;5;129;01min\u001b[39;00m \u001b[38;5;28mzip\u001b[39m(converters, vals)]\n\u001b[0;32m   1001\u001b[0m \u001b[38;5;66;03m# Then pack it according to the dtype's nesting\u001b[39;00m\n\u001b[0;32m   1002\u001b[0m items \u001b[38;5;241m=\u001b[39m pack_items(items, packing)\n",
      "File \u001b[1;32m~\\anaconda3\\lib\\site-packages\\numpy\\lib\\npyio.py:999\u001b[0m, in \u001b[0;36m<listcomp>\u001b[1;34m(.0)\u001b[0m\n\u001b[0;32m    995\u001b[0m     \u001b[38;5;28;01mraise\u001b[39;00m \u001b[38;5;167;01mValueError\u001b[39;00m(\u001b[38;5;124m\"\u001b[39m\u001b[38;5;124mWrong number of columns at line \u001b[39m\u001b[38;5;132;01m%d\u001b[39;00m\u001b[38;5;124m\"\u001b[39m\n\u001b[0;32m    996\u001b[0m                      \u001b[38;5;241m%\u001b[39m line_num)\n\u001b[0;32m    998\u001b[0m \u001b[38;5;66;03m# Convert each value according to its column and store\u001b[39;00m\n\u001b[1;32m--> 999\u001b[0m items \u001b[38;5;241m=\u001b[39m [\u001b[43mconv\u001b[49m\u001b[43m(\u001b[49m\u001b[43mval\u001b[49m\u001b[43m)\u001b[49m \u001b[38;5;28;01mfor\u001b[39;00m (conv, val) \u001b[38;5;129;01min\u001b[39;00m \u001b[38;5;28mzip\u001b[39m(converters, vals)]\n\u001b[0;32m   1001\u001b[0m \u001b[38;5;66;03m# Then pack it according to the dtype's nesting\u001b[39;00m\n\u001b[0;32m   1002\u001b[0m items \u001b[38;5;241m=\u001b[39m pack_items(items, packing)\n",
      "File \u001b[1;32m~\\anaconda3\\lib\\site-packages\\numpy\\lib\\npyio.py:736\u001b[0m, in \u001b[0;36m_getconv.<locals>.floatconv\u001b[1;34m(x)\u001b[0m\n\u001b[0;32m    734\u001b[0m \u001b[38;5;28;01mif\u001b[39;00m \u001b[38;5;124m'\u001b[39m\u001b[38;5;124m0x\u001b[39m\u001b[38;5;124m'\u001b[39m \u001b[38;5;129;01min\u001b[39;00m x:\n\u001b[0;32m    735\u001b[0m     \u001b[38;5;28;01mreturn\u001b[39;00m \u001b[38;5;28mfloat\u001b[39m\u001b[38;5;241m.\u001b[39mfromhex(x)\n\u001b[1;32m--> 736\u001b[0m \u001b[38;5;28;01mreturn\u001b[39;00m \u001b[38;5;28;43mfloat\u001b[39;49m\u001b[43m(\u001b[49m\u001b[43mx\u001b[49m\u001b[43m)\u001b[49m\n",
      "\u001b[1;31mValueError\u001b[0m: could not convert string to float: 'Bulbasaur'"
     ]
    }
   ],
   "source": [
    "poke_man = loadtxt(raw_data, delimiter = ',')"
   ]
  },
  {
   "cell_type": "markdown",
   "id": "ca26016e",
   "metadata": {},
   "source": [
    "## Dictionary"
   ]
  },
  {
   "cell_type": "code",
   "execution_count": null,
   "id": "8d491a4e",
   "metadata": {},
   "outputs": [],
   "source": []
  }
 ],
 "metadata": {
  "kernelspec": {
   "display_name": "Python 3 (ipykernel)",
   "language": "python",
   "name": "python3"
  },
  "language_info": {
   "codemirror_mode": {
    "name": "ipython",
    "version": 3
   },
   "file_extension": ".py",
   "mimetype": "text/x-python",
   "name": "python",
   "nbconvert_exporter": "python",
   "pygments_lexer": "ipython3",
   "version": "3.9.12"
  }
 },
 "nbformat": 4,
 "nbformat_minor": 5
}
